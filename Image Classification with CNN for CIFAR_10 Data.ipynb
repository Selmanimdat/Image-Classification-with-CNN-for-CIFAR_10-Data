{
 "cells": [
  {
   "cell_type": "markdown",
   "id": "7f070b1b",
   "metadata": {},
   "source": [
    "# Image Classification with CNN for CIFAR_10 Data"
   ]
  },
  {
   "cell_type": "raw",
   "id": "b09f2202",
   "metadata": {},
   "source": [
    "#Image Classification with CNN for CIFAR_10 Data  prohect we have 10 class /Airplane\n",
    "Automobile\n",
    "Bird\n",
    "Cat\n",
    "Deer\n",
    "Dog\n",
    "Frog\n",
    "Horse\n",
    "Ship\n",
    "Truck"
   ]
  },
  {
   "cell_type": "code",
   "execution_count": 1,
   "id": "eecd6c7b",
   "metadata": {},
   "outputs": [],
   "source": [
    "#librairies"
   ]
  },
  {
   "cell_type": "code",
   "execution_count": 2,
   "id": "122b6ef9",
   "metadata": {},
   "outputs": [],
   "source": [
    "import tensorflow as tf\n",
    "from tensorflow.keras.datasets import cifar10\n",
    "from tensorflow.keras.preprocessing.image import ImageDataGenerator\n",
    "from tensorflow.keras.models import Sequential\n",
    "from tensorflow.keras.layers import Dense, Dropout, Activation, Flatten\n",
    "from tensorflow.keras.layers import BatchNormalization\n",
    "from tensorflow.keras.layers import Conv2D, MaxPooling2D\n",
    "from tensorflow.keras.regularizers import l2\n",
    "from keras.callbacks import EarlyStopping, ReduceLROnPlateau, ModelCheckpoint\n",
    "from tensorflow.keras.utils import to_categorical\n",
    "import numpy as np\n",
    "import os\n",
    "import pandas as pd\n",
    "import matplotlib.pyplot as plt\n",
    "plt.style.use('seaborn')\n",
    "import seaborn as sns\n",
    "sns.set_style('darkgrid')\n",
    "\n",
    "num_classes = 10"
   ]
  },
  {
   "cell_type": "code",
   "execution_count": 3,
   "id": "c36cf2d6",
   "metadata": {},
   "outputs": [],
   "source": [
    "#load data"
   ]
  },
  {
   "cell_type": "code",
   "execution_count": 4,
   "id": "36207b32",
   "metadata": {},
   "outputs": [],
   "source": [
    "(x_train, y_train), (x_test, y_test) = cifar10.load_data()"
   ]
  },
  {
   "cell_type": "code",
   "execution_count": 5,
   "id": "dc9709b9",
   "metadata": {},
   "outputs": [],
   "source": [
    "# print shape"
   ]
  },
  {
   "cell_type": "code",
   "execution_count": 6,
   "id": "fb9c33fb",
   "metadata": {},
   "outputs": [
    {
     "name": "stdout",
     "output_type": "stream",
     "text": [
      "x_train shape => (50000, 32, 32, 3)\n",
      "x_test shape => (10000, 32, 32, 3)\n"
     ]
    }
   ],
   "source": [
    "print(\"x_train shape =>\"  , x_train.shape)\n",
    "print(\"x_test shape =>\"  , x_test.shape)"
   ]
  },
  {
   "cell_type": "code",
   "execution_count": 7,
   "id": "e62f2846",
   "metadata": {},
   "outputs": [],
   "source": [
    "#data preprocesing"
   ]
  },
  {
   "cell_type": "code",
   "execution_count": 8,
   "id": "4f6b93d0",
   "metadata": {},
   "outputs": [],
   "source": [
    "x_train = x_train.astype('float32') / 255.0\n",
    "x_test = x_test.astype('float32') / 255.0\n",
    "y_train = to_categorical(y_train)\n",
    "y_test = to_categorical(y_test)"
   ]
  },
  {
   "cell_type": "code",
   "execution_count": 9,
   "id": "8a236d13",
   "metadata": {},
   "outputs": [],
   "source": [
    "#preapare class names"
   ]
  },
  {
   "cell_type": "code",
   "execution_count": 10,
   "id": "ab19a5d1",
   "metadata": {},
   "outputs": [],
   "source": [
    "class_names = ['airplane', 'automobile', 'bird', 'cat', 'deer',\n",
    "               'dog', 'frog', 'horse', 'ship', 'truck']"
   ]
  },
  {
   "cell_type": "code",
   "execution_count": 11,
   "id": "aaa37aeb",
   "metadata": {},
   "outputs": [],
   "source": [
    "#create model"
   ]
  },
  {
   "cell_type": "code",
   "execution_count": 17,
   "id": "a45fa31c",
   "metadata": {},
   "outputs": [],
   "source": [
    "model = Sequential([\n",
    "    Conv2D(32, (3, 3), activation='relu', padding='same', input_shape=(32, 32, 3)),\n",
    "    MaxPooling2D((2, 2)),\n",
    "    Conv2D(64, (3, 3), activation='relu', padding='same'),\n",
    "    MaxPooling2D((2, 2)),\n",
    "    Flatten(),\n",
    "    Dense(64, activation='relu'),\n",
    "    Dense(30, activation='relu'),\n",
    "    Dense(10, activation='softmax')\n",
    "])"
   ]
  },
  {
   "cell_type": "code",
   "execution_count": 18,
   "id": "a5cc1dcf",
   "metadata": {},
   "outputs": [],
   "source": [
    "#compaile model"
   ]
  },
  {
   "cell_type": "code",
   "execution_count": 19,
   "id": "62f72588",
   "metadata": {},
   "outputs": [],
   "source": [
    "model.compile(optimizer='adam', loss='categorical_crossentropy', metrics=['accuracy'])"
   ]
  },
  {
   "cell_type": "code",
   "execution_count": 20,
   "id": "ee3e6a5c",
   "metadata": {},
   "outputs": [],
   "source": [
    "#train model"
   ]
  },
  {
   "cell_type": "code",
   "execution_count": 22,
   "id": "6ce42a14",
   "metadata": {
    "scrolled": true
   },
   "outputs": [
    {
     "name": "stdout",
     "output_type": "stream",
     "text": [
      "Epoch 1/20\n",
      "782/782 [==============================] - 44s 55ms/step - loss: 0.5569 - accuracy: 0.8054 - val_loss: 0.9309 - val_accuracy: 0.7020\n",
      "Epoch 2/20\n",
      "782/782 [==============================] - 41s 52ms/step - loss: 0.5256 - accuracy: 0.8156 - val_loss: 0.9199 - val_accuracy: 0.7061\n",
      "Epoch 3/20\n",
      "782/782 [==============================] - 40s 51ms/step - loss: 0.4935 - accuracy: 0.8272 - val_loss: 0.9366 - val_accuracy: 0.7022\n",
      "Epoch 4/20\n",
      "782/782 [==============================] - 40s 51ms/step - loss: 0.4659 - accuracy: 0.8365 - val_loss: 0.9517 - val_accuracy: 0.7048\n",
      "Epoch 5/20\n",
      "782/782 [==============================] - 41s 52ms/step - loss: 0.4283 - accuracy: 0.8495 - val_loss: 1.0309 - val_accuracy: 0.6949\n",
      "Epoch 6/20\n",
      "782/782 [==============================] - 41s 52ms/step - loss: 0.4037 - accuracy: 0.8569 - val_loss: 1.0319 - val_accuracy: 0.6979\n",
      "Epoch 7/20\n",
      "782/782 [==============================] - 40s 52ms/step - loss: 0.3755 - accuracy: 0.8677 - val_loss: 1.0829 - val_accuracy: 0.7050\n",
      "Epoch 8/20\n",
      "782/782 [==============================] - 41s 52ms/step - loss: 0.3485 - accuracy: 0.8763 - val_loss: 1.1303 - val_accuracy: 0.6946\n",
      "Epoch 9/20\n",
      "782/782 [==============================] - 40s 52ms/step - loss: 0.3262 - accuracy: 0.8838 - val_loss: 1.1492 - val_accuracy: 0.7018\n",
      "Epoch 10/20\n",
      "782/782 [==============================] - 42s 54ms/step - loss: 0.3045 - accuracy: 0.8923 - val_loss: 1.2792 - val_accuracy: 0.6876\n",
      "Epoch 11/20\n",
      "782/782 [==============================] - 42s 54ms/step - loss: 0.2886 - accuracy: 0.8963 - val_loss: 1.2911 - val_accuracy: 0.6988\n",
      "Epoch 12/20\n",
      "782/782 [==============================] - 46s 58ms/step - loss: 0.2660 - accuracy: 0.9049 - val_loss: 1.3153 - val_accuracy: 0.6893\n",
      "Epoch 13/20\n",
      "782/782 [==============================] - 43s 55ms/step - loss: 0.2485 - accuracy: 0.9110 - val_loss: 1.4129 - val_accuracy: 0.6893\n",
      "Epoch 14/20\n",
      "782/782 [==============================] - 45s 57ms/step - loss: 0.2364 - accuracy: 0.9158 - val_loss: 1.4675 - val_accuracy: 0.6912\n",
      "Epoch 15/20\n",
      "782/782 [==============================] - 47s 60ms/step - loss: 0.2185 - accuracy: 0.9208 - val_loss: 1.4706 - val_accuracy: 0.6864\n",
      "Epoch 16/20\n",
      "782/782 [==============================] - 41s 53ms/step - loss: 0.1992 - accuracy: 0.9285 - val_loss: 1.5054 - val_accuracy: 0.6907\n",
      "Epoch 17/20\n",
      "782/782 [==============================] - 40s 51ms/step - loss: 0.1894 - accuracy: 0.9324 - val_loss: 1.6664 - val_accuracy: 0.6872\n",
      "Epoch 18/20\n",
      "782/782 [==============================] - 41s 52ms/step - loss: 0.1874 - accuracy: 0.9325 - val_loss: 1.7174 - val_accuracy: 0.6791\n",
      "Epoch 19/20\n",
      "782/782 [==============================] - 40s 52ms/step - loss: 0.1730 - accuracy: 0.9377 - val_loss: 1.8126 - val_accuracy: 0.6817\n",
      "Epoch 20/20\n",
      "782/782 [==============================] - 40s 51ms/step - loss: 0.1628 - accuracy: 0.9414 - val_loss: 1.9325 - val_accuracy: 0.6790\n"
     ]
    },
    {
     "data": {
      "text/plain": [
       "<keras.callbacks.History at 0x24c586d4e20>"
      ]
     },
     "execution_count": 22,
     "metadata": {},
     "output_type": "execute_result"
    }
   ],
   "source": [
    "model.fit(x_train, y_train, batch_size=64, epochs=20, validation_data=(x_test, y_test))"
   ]
  },
  {
   "cell_type": "code",
   "execution_count": 23,
   "id": "17d35fce",
   "metadata": {},
   "outputs": [],
   "source": [
    "#evulate model"
   ]
  },
  {
   "cell_type": "code",
   "execution_count": 24,
   "id": "4e67a222",
   "metadata": {},
   "outputs": [
    {
     "name": "stdout",
     "output_type": "stream",
     "text": [
      "313/313 [==============================] - 4s 14ms/step - loss: 1.9325 - accuracy: 0.6790\n"
     ]
    },
    {
     "data": {
      "text/plain": [
       "[1.9325222969055176, 0.6790000200271606]"
      ]
     },
     "execution_count": 24,
     "metadata": {},
     "output_type": "execute_result"
    }
   ],
   "source": [
    "model.evaluate(x_test,y_test)"
   ]
  },
  {
   "cell_type": "code",
   "execution_count": 25,
   "id": "956cb320",
   "metadata": {},
   "outputs": [],
   "source": [
    "#save model"
   ]
  },
  {
   "cell_type": "code",
   "execution_count": 27,
   "id": "2b9812ff",
   "metadata": {
    "collapsed": true
   },
   "outputs": [
    {
     "name": "stdout",
     "output_type": "stream",
     "text": [
      "Keras weights file (<HDF5 file \"variables.h5\" (mode r+)>) saving:\n",
      "...layers\\conv2d\n",
      "......vars\n",
      ".........0\n",
      ".........1\n",
      "...layers\\conv2d_1\n",
      "......vars\n",
      ".........0\n",
      ".........1\n",
      "...layers\\dense\n",
      "......vars\n",
      ".........0\n",
      ".........1\n",
      "...layers\\dense_1\n",
      "......vars\n",
      ".........0\n",
      ".........1\n",
      "...layers\\dense_2\n",
      "......vars\n",
      ".........0\n",
      ".........1\n",
      "...layers\\flatten\n",
      "......vars\n",
      "...layers\\max_pooling2d\n",
      "......vars\n",
      "...layers\\max_pooling2d_1\n",
      "......vars\n",
      "...metrics\\mean\n",
      "......vars\n",
      ".........0\n",
      ".........1\n",
      "...metrics\\mean_metric_wrapper\n",
      "......vars\n",
      ".........0\n",
      ".........1\n",
      "...optimizer\n",
      "......vars\n",
      ".........0\n",
      ".........1\n",
      ".........10\n",
      ".........11\n",
      ".........12\n",
      ".........13\n",
      ".........14\n",
      ".........15\n",
      ".........16\n",
      ".........17\n",
      ".........18\n",
      ".........19\n",
      ".........2\n",
      ".........20\n",
      ".........3\n",
      ".........4\n",
      ".........5\n",
      ".........6\n",
      ".........7\n",
      ".........8\n",
      ".........9\n",
      "...vars\n",
      "Keras model archive saving:\n",
      "File Name                                             Modified             Size\n",
      "config.json                                    2023-11-28 22:56:18         3511\n",
      "metadata.json                                  2023-11-28 22:56:18           64\n",
      "variables.h5                                   2023-11-28 22:56:19      3443080\n"
     ]
    }
   ],
   "source": [
    "import pickle\n",
    "with open('model.pkl', 'wb') as file:\n",
    "    pickle.dump(model, file)"
   ]
  },
  {
   "cell_type": "code",
   "execution_count": 29,
   "id": "073bcde5",
   "metadata": {},
   "outputs": [],
   "source": [
    "#sources"
   ]
  },
  {
   "cell_type": "markdown",
   "id": "957da5ee",
   "metadata": {},
   "source": [
    "-Zafer Acar Notes\n",
    ",-[https://poe.com/chat/2rhcfi4djoj4u359vfr]"
   ]
  }
 ],
 "metadata": {
  "kernelspec": {
   "display_name": "Python 3 (ipykernel)",
   "language": "python",
   "name": "python3"
  },
  "language_info": {
   "codemirror_mode": {
    "name": "ipython",
    "version": 3
   },
   "file_extension": ".py",
   "mimetype": "text/x-python",
   "name": "python",
   "nbconvert_exporter": "python",
   "pygments_lexer": "ipython3",
   "version": "3.9.13"
  }
 },
 "nbformat": 4,
 "nbformat_minor": 5
}
